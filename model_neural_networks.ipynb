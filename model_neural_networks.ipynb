{
 "cells": [
  {
   "cell_type": "markdown",
   "id": "ebb8d31e",
   "metadata": {},
   "source": [
    "# Neural Networks\n",
    "\n",
    "For: Pao Pao\n",
    "\n",
    "The idea for this file is to train a a ANN model given the dataset. The data files you will need to import is unfortunately not ready. But for now, write and test the code using `model_building_data.csv` which is provided in the data folder. Keep in mind that the final training/testing files will have more fields.\n",
    "\n",
    "Neural Network based models cant handle missing data. Also, the range should be between -1 to 1 where possible. Also, an ANN is *not* a time series model. So lagged variables are needed.\n",
    "\n",
    "Use Keras the both models. The task itself is not too complex so Keras is more suitable.\n",
    "\n",
    "Tune all parameters using Optuna if possible (or use 3-fold cv) with the timesplit function like in assignment 1.\n",
    "\n",
    "This file should save the output of the prediction in the format:\n",
    "\n",
    "| ticker | quarter_year  | log_revenue_prediction | CAR_prediction |\n",
    "|--------|---------------|------------------------|----------------|\n",
    "| BAC    | Q1 2001       | 123                    | 0.5            |\n",
    "| JPM    | Q1 2001       | 456                    | 0.8            |\n",
    "| WFC    | Q1 2001       | 789                    | 0.25           |"
   ]
  },
  {
   "cell_type": "markdown",
   "id": "ed86e896",
   "metadata": {},
   "source": []
  }
 ],
 "metadata": {
  "language_info": {
   "name": "python"
  }
 },
 "nbformat": 4,
 "nbformat_minor": 5
}
