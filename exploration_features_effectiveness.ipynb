{
 "cells": [
  {
   "cell_type": "code",
   "execution_count": 2,
   "id": "610a71d7",
   "metadata": {},
   "outputs": [],
   "source": [
    "import pandas as pd\n",
    "import numpy as np\n",
    "from sklearn.tree import DecisionTreeRegressor\n",
    "from sklearn.model_selection import GridSearchCV\n",
    "from sklearn.metrics import mean_squared_error, r2_score, mean_absolute_error\n",
    "\n",
    "import matplotlib.pyplot as plt\n",
    "import seaborn as sns\n",
    "import warnings\n",
    "warnings.filterwarnings(\"ignore\")"
   ]
  },
  {
   "cell_type": "markdown",
   "id": "6a11d57d",
   "metadata": {},
   "source": [
    "## Revenue"
   ]
  },
  {
   "cell_type": "code",
   "execution_count": 3,
   "id": "1052bee7",
   "metadata": {},
   "outputs": [],
   "source": [
    "df_train_rev = pd.read_csv(\"data/train_data_REV_with_text.csv\")\n",
    "df_test_rev = pd.read_csv(\"data/test_data_REV_with_text.csv\")\n",
    "df_train_rev = df_train_rev.sort_values(by=['datacqtr', 'tic']).reset_index(drop=True)\n",
    "df_test_rev = df_test_rev.sort_values(by=['datacqtr', 'tic']).reset_index(drop=True)"
   ]
  },
  {
   "cell_type": "code",
   "execution_count": 44,
   "id": "cdcef0b8",
   "metadata": {},
   "outputs": [],
   "source": [
    "# Create the lagged column\n",
    "df_train_rev['Total Current Operating Revenue_lag1'] = df_train_rev.groupby('tic')['Total Current Operating Revenue'].shift(1)\n",
    "df_train_rev['Total Current Operating Revenue_lag2'] = df_train_rev.groupby('tic')['Total Current Operating Revenue'].shift(2)\n",
    "df_train_rev['Total Current Operating Revenue_lag3'] = df_train_rev.groupby('tic')['Total Current Operating Revenue'].shift(3)\n",
    "df_train_rev['Total Current Operating Revenue_lag4'] = df_train_rev.groupby('tic')['Total Current Operating Revenue'].shift(4)\n",
    "\n",
    "df_train_rev['Net Charge-Offs_lag1'] = df_train_rev.groupby('tic')['Net Charge-Offs'].shift(1)\n",
    "df_train_rev['Net Charge-Offs_lag2'] = df_train_rev.groupby('tic')['Net Charge-Offs'].shift(2)\n",
    "df_train_rev['Net Charge-Offs_lag3'] = df_train_rev.groupby('tic')['Net Charge-Offs'].shift(3)\n",
    "df_train_rev['Net Charge-Offs_lag4'] = df_train_rev.groupby('tic')['Net Charge-Offs'].shift(4)\n",
    "\n",
    "df_train_rev['Invested Capital - Total_lag1'] = df_train_rev.groupby('tic')['Invested Capital - Total'].shift(1)\n",
    "df_train_rev['Invested Capital - Total_lag2'] = df_train_rev.groupby('tic')['Invested Capital - Total'].shift(2)\n",
    "df_train_rev['Invested Capital - Total_lag3'] = df_train_rev.groupby('tic')['Invested Capital - Total'].shift(3)\n",
    "df_train_rev['Invested Capital - Total_lag4'] = df_train_rev.groupby('tic')['Invested Capital - Total'].shift(4)\n",
    "\n",
    "\n",
    "\n",
    "df_test_rev['Total Current Operating Revenue_lag1'] = df_test_rev.groupby('tic')['Total Current Operating Revenue'].shift(1)\n",
    "df_test_rev['Total Current Operating Revenue_lag2'] = df_test_rev.groupby('tic')['Total Current Operating Revenue'].shift(2)\n",
    "df_test_rev['Total Current Operating Revenue_lag3'] = df_test_rev.groupby('tic')['Total Current Operating Revenue'].shift(3)\n",
    "df_test_rev['Total Current Operating Revenue_lag4'] = df_test_rev.groupby('tic')['Total Current Operating Revenue'].shift(4)\n",
    "\n",
    "df_test_rev['Net Charge-Offs_lag1'] = df_test_rev.groupby('tic')['Net Charge-Offs'].shift(1)\n",
    "df_test_rev['Net Charge-Offs_lag2'] = df_test_rev.groupby('tic')['Net Charge-Offs'].shift(2)\n",
    "df_test_rev['Net Charge-Offs_lag3'] = df_test_rev.groupby('tic')['Net Charge-Offs'].shift(3)\n",
    "df_test_rev['Net Charge-Offs_lag4'] = df_test_rev.groupby('tic')['Net Charge-Offs'].shift(4)\n",
    "\n",
    "df_test_rev['Invested Capital - Total_lag1'] = df_test_rev.groupby('tic')['Invested Capital - Total'].shift(1)\n",
    "df_test_rev['Invested Capital - Total_lag2'] = df_test_rev.groupby('tic')['Invested Capital - Total'].shift(2)\n",
    "df_test_rev['Invested Capital - Total_lag3'] = df_test_rev.groupby('tic')['Invested Capital - Total'].shift(3)\n",
    "df_test_rev['Invested Capital - Total_lag4'] = df_test_rev.groupby('tic')['Invested Capital - Total'].shift(4)"
   ]
  },
  {
   "cell_type": "code",
   "execution_count": 45,
   "id": "a33896d5",
   "metadata": {},
   "outputs": [],
   "source": [
    "# Drop NA\n",
    "\n",
    "df_train_rev = df_train_rev.dropna()\n",
    "df_test_rev = df_test_rev.dropna()"
   ]
  },
  {
   "cell_type": "code",
   "execution_count": 49,
   "id": "318ce54a",
   "metadata": {},
   "outputs": [],
   "source": [
    "def getting_training_dataset(df: pd.DataFrame, subset: list, y_value=\"Total Current Operating Revenue\"):\n",
    "    X_train = df[subset].copy().to_numpy()\n",
    "    y_train = df[y_value].copy().to_numpy()\n",
    "\n",
    "    X_test = df[subset].copy().to_numpy()\n",
    "    y_test = df[y_value].copy().to_numpy()\n",
    "    return X_train, y_train, X_test, y_test\n",
    "\n",
    "\n",
    "def train_decision_tree(X_train, y_train, X_test, y_test, random_state=42):\n",
    "    # Define the model\n",
    "    tree = DecisionTreeRegressor(random_state=random_state)\n",
    "\n",
    "    # Define the hyperparameter grid\n",
    "    param_grid = {\n",
    "        'max_depth': [3, 5, 10, 20, None],\n",
    "        'min_samples_split': [2, 5, 10],\n",
    "        'min_samples_leaf': [1, 2, 4]\n",
    "    }\n",
    "\n",
    "    # Setup GridSearchCV\n",
    "    grid_search = GridSearchCV(\n",
    "        estimator=tree,\n",
    "        param_grid=param_grid,\n",
    "        cv=5,                # 5-fold cross-validation\n",
    "        scoring='neg_mean_squared_error',\n",
    "        n_jobs=-1            # Use all cores\n",
    "    )\n",
    "\n",
    "    # Fit the grid search\n",
    "    grid_search.fit(X_train, y_train)\n",
    "\n",
    "    # Best model from grid search\n",
    "    best_tree = grid_search.best_estimator_\n",
    "\n",
    "    # Predict on the test set\n",
    "    y_pred = best_tree.predict(X_test)\n",
    "\n",
    "    # Evaluate the model\n",
    "    rmse = np.sqrt(mean_squared_error(y_test, y_pred))\n",
    "    mae = mean_absolute_error(y_test, y_pred)\n",
    "    r2 = r2_score(y_test, y_pred)\n",
    "\n",
    "    print(f\"Best parameters: {grid_search.best_params_}\")\n",
    "    print(f\"Test RMSE: {rmse:.4f}\")\n",
    "    print(f\"Test MAE: {mae:.4f}\")\n",
    "    print(f\"Test R²: {r2:.4f}\")\n",
    "    # print(f\"Test R²: {r2}\")\n",
    "    # print(y_test)\n",
    "    # print(y_pred)"
   ]
  },
  {
   "cell_type": "code",
   "execution_count": 50,
   "id": "c3202f1b",
   "metadata": {},
   "outputs": [],
   "source": [
    "# Features subset\n",
    "\n",
    "# 1. Just lagged revenue\n",
    "\n",
    "experiment_1_rev = [\n",
    "    \"Total Current Operating Revenue_lag1\",\n",
    "    \"Total Current Operating Revenue_lag2\",\n",
    "    \"Total Current Operating Revenue_lag3\",\n",
    "    \"Total Current Operating Revenue_lag4\",\n",
    "]\n",
    "\n",
    "# 2. Just fundamentals and lagged fundametals\n",
    "\n",
    "experiment_2_rev = [\n",
    "    \"Net Interest Income\",\n",
    "    \"Net Interest Margin\",\n",
    "    \"Net Charge-Offs\",\n",
    "    \"Cash and Short-Term Investments\",\n",
    "    \"Net Income\",\n",
    "    \"Invested Capital - Total\",\n",
    "    \"Total Current Operating Revenue_lag1\",\n",
    "    \"Total Current Operating Revenue_lag2\",\n",
    "    \"Total Current Operating Revenue_lag3\",\n",
    "    \"Total Current Operating Revenue_lag4\",\n",
    "    \"Net Charge-Offs_lag1\",\n",
    "    \"Net Charge-Offs_lag2\",\n",
    "    \"Net Charge-Offs_lag3\",\n",
    "    \"Net Charge-Offs_lag4\",\n",
    "    \"Invested Capital - Total_lag1\",\n",
    "    \"Invested Capital - Total_lag2\",\n",
    "    \"Invested Capital - Total_lag3\",\n",
    "    \"Invested Capital - Total_lag4\",\n",
    "]\n",
    "\n",
    "# 3. Just lagged revenue and economics stuff\n",
    "\n",
    "experiment_3_rev = [\n",
    "    \"Total Current Operating Revenue_lag1\",\n",
    "    \"Total Current Operating Revenue_lag2\",\n",
    "    \"Total Current Operating Revenue_lag3\",\n",
    "    \"Total Current Operating Revenue_lag4\",\n",
    "    'GDP CHANGE (-1 to 1)', 'UNEMPLOYMENT RATE (0 to 1)',\n",
    "    'PRIME LOAN RATE (0 to 1)', 'DEPOSITS CHANGE (-1 to 1)',\n",
    "    'CONSUMER PRICE INDEX (0 to 1)', 'SAVINGS PER GROSS INCOME (-1 to 1)'\n",
    "]\n",
    "\n",
    "# 4. Just lagged revenue and market stuff\n",
    "\n",
    "experiment_4_rev = [\n",
    "    \"Total Current Operating Revenue_lag1\",\n",
    "    \"Total Current Operating Revenue_lag2\",\n",
    "    \"Total Current Operating Revenue_lag3\",\n",
    "    \"Total Current Operating Revenue_lag4\",\n",
    "    'S&P_SMA20', 'S&P_SMA40', 'S&P_SMA60',\n",
    "    'S&P_RSI', 'TNX_SMA20', 'TNX_SMA40', 'TNX_SMA60', 'IRX_SMA20',\n",
    "    'IRX_SMA40', 'IRX_SMA60', 'FVX_SMA20', 'FVX_SMA40', 'FVX_SMA60',\n",
    "    'TYX_SMA20', 'TYX_SMA40', 'TYX_SMA60', 'DXY_SMA20', 'DXY_SMA40',\n",
    "    'DXY_SMA60', 'XLF_SMA20', 'XLF_SMA40', 'XLF_SMA60', 'XLF_RSI', 'SMA20',\n",
    "    'SMA40', 'SMA60', 'RSI', 'Volatility20', 'Volatility40', 'Volatility60'\n",
    "]\n",
    "\n",
    "# 5. Just lagged revenue and text sentiments\n",
    "\n",
    "experiment_5_rev = [\n",
    "    \"Total Current Operating Revenue_lag1\",\n",
    "    \"Total Current Operating Revenue_lag2\",\n",
    "    \"Total Current Operating Revenue_lag3\",\n",
    "    \"Total Current Operating Revenue_lag4\",\n",
    "    'earning_calls_sentiment', 'earning_calls_confidence',\n",
    "    'earning_calls_complexity', 'news_sentiment', 'news_confidence',\n",
    "    'news_complexity_score', 'reviews_rating',\n",
    "    'text_blob_reviews_sentiment', 'vader_reviews_sentiment_neg',\n",
    "    'vader_reviews_sentiment_pos', 'bert_reviews_label',\n",
    "    'bert_reviews_score',\n",
    "]"
   ]
  },
  {
   "cell_type": "code",
   "execution_count": 51,
   "id": "67d946bf",
   "metadata": {},
   "outputs": [
    {
     "name": "stdout",
     "output_type": "stream",
     "text": [
      "Just lagged revenue\n",
      "Best parameters: {'max_depth': 10, 'min_samples_leaf': 4, 'min_samples_split': 10}\n",
      "Test RMSE: 0.0087\n",
      "Test MAE: 0.0044\n",
      "Test R²: 0.9973\n"
     ]
    }
   ],
   "source": [
    "print(\"Just lagged revenue\")\n",
    "X_rev_train, y_rev_train, X_rev_test, y_rev_test = getting_training_dataset(df_train_rev, experiment_1_rev)\n",
    "train_decision_tree(X_rev_train, y_rev_train, X_rev_test, y_rev_test)"
   ]
  },
  {
   "cell_type": "code",
   "execution_count": 52,
   "id": "8a1f1e3f",
   "metadata": {},
   "outputs": [
    {
     "name": "stdout",
     "output_type": "stream",
     "text": [
      "Just fundamentals and lagged fundametals\n",
      "Best parameters: {'max_depth': 10, 'min_samples_leaf': 4, 'min_samples_split': 10}\n",
      "Test RMSE: 0.0083\n",
      "Test MAE: 0.0042\n",
      "Test R²: 0.9975\n"
     ]
    }
   ],
   "source": [
    "print(\"Just fundamentals and lagged fundametals\")\n",
    "X_rev_train, y_rev_train, X_rev_test, y_rev_test = getting_training_dataset(df_train_rev, experiment_2_rev)\n",
    "train_decision_tree(X_rev_train, y_rev_train, X_rev_test, y_rev_test)"
   ]
  },
  {
   "cell_type": "code",
   "execution_count": 53,
   "id": "6c4b3abc",
   "metadata": {},
   "outputs": [
    {
     "name": "stdout",
     "output_type": "stream",
     "text": [
      "Just lagged revenue and economics stuff\n",
      "Best parameters: {'max_depth': 10, 'min_samples_leaf': 4, 'min_samples_split': 10}\n",
      "Test RMSE: 0.0087\n",
      "Test MAE: 0.0043\n",
      "Test R²: 0.9973\n"
     ]
    }
   ],
   "source": [
    "print(\"Just lagged revenue and economics stuff\")\n",
    "X_rev_train, y_rev_train, X_rev_test, y_rev_test = getting_training_dataset(df_train_rev, experiment_3_rev)\n",
    "train_decision_tree(X_rev_train, y_rev_train, X_rev_test, y_rev_test)"
   ]
  },
  {
   "cell_type": "code",
   "execution_count": 54,
   "id": "7ff1e31b",
   "metadata": {},
   "outputs": [
    {
     "name": "stdout",
     "output_type": "stream",
     "text": [
      "Just lagged revenue and market stuff\n",
      "Best parameters: {'max_depth': 10, 'min_samples_leaf': 4, 'min_samples_split': 10}\n",
      "Test RMSE: 0.0085\n",
      "Test MAE: 0.0043\n",
      "Test R²: 0.9975\n"
     ]
    }
   ],
   "source": [
    "print(\"Just lagged revenue and market stuff\")\n",
    "X_rev_train, y_rev_train, X_rev_test, y_rev_test = getting_training_dataset(df_train_rev, experiment_4_rev)\n",
    "train_decision_tree(X_rev_train, y_rev_train, X_rev_test, y_rev_test)"
   ]
  },
  {
   "cell_type": "code",
   "execution_count": 55,
   "id": "55fe59ee",
   "metadata": {},
   "outputs": [
    {
     "name": "stdout",
     "output_type": "stream",
     "text": [
      "Just lagged revenue and text sentiments\n",
      "Best parameters: {'max_depth': 10, 'min_samples_leaf': 4, 'min_samples_split': 10}\n",
      "Test RMSE: 0.0087\n",
      "Test MAE: 0.0045\n",
      "Test R²: 0.9973\n"
     ]
    }
   ],
   "source": [
    "print(\"Just lagged revenue and text sentiments\")\n",
    "X_rev_train, y_rev_train, X_rev_test, y_rev_test = getting_training_dataset(df_train_rev, experiment_5_rev)\n",
    "train_decision_tree(X_rev_train, y_rev_train, X_rev_test, y_rev_test)"
   ]
  },
  {
   "cell_type": "markdown",
   "id": "bcb76a73",
   "metadata": {},
   "source": [
    "## CAR"
   ]
  },
  {
   "cell_type": "code",
   "execution_count": 56,
   "id": "c3843807",
   "metadata": {},
   "outputs": [],
   "source": [
    "df_train_car = pd.read_csv(\"data/train_data_CAR5_with_text.csv\")\n",
    "df_test_car = pd.read_csv(\"data/test_data_CAR5_with_text.csv\")\n",
    "df_train_car = df_train_car.sort_values(by=['tic', 'datacqtr']).reset_index(drop=True)\n",
    "df_test_car = df_test_car.sort_values(by=['tic', 'datacqtr']).reset_index(drop=True)"
   ]
  },
  {
   "cell_type": "code",
   "execution_count": 57,
   "id": "73ade139",
   "metadata": {},
   "outputs": [],
   "source": [
    "# Create the lagged column\n",
    "df_train_car['Total Current Operating Revenue_lag1'] = df_train_car.groupby('tic')['Total Current Operating Revenue'].shift(1)\n",
    "df_train_car['Total Current Operating Revenue_lag2'] = df_train_car.groupby('tic')['Total Current Operating Revenue'].shift(2)\n",
    "df_train_car['Total Current Operating Revenue_lag3'] = df_train_car.groupby('tic')['Total Current Operating Revenue'].shift(3)\n",
    "df_train_car['Total Current Operating Revenue_lag4'] = df_train_car.groupby('tic')['Total Current Operating Revenue'].shift(4)\n",
    "\n",
    "df_train_car['Net Charge-Offs_lag1'] = df_train_car.groupby('tic')['Net Charge-Offs'].shift(1)\n",
    "df_train_car['Net Charge-Offs_lag2'] = df_train_car.groupby('tic')['Net Charge-Offs'].shift(2)\n",
    "df_train_car['Net Charge-Offs_lag3'] = df_train_car.groupby('tic')['Net Charge-Offs'].shift(3)\n",
    "df_train_car['Net Charge-Offs_lag4'] = df_train_car.groupby('tic')['Net Charge-Offs'].shift(4)\n",
    "\n",
    "df_train_car['Invested Capital - Total_lag1'] = df_train_car.groupby('tic')['Invested Capital - Total'].shift(1)\n",
    "df_train_car['Invested Capital - Total_lag2'] = df_train_car.groupby('tic')['Invested Capital - Total'].shift(2)\n",
    "df_train_car['Invested Capital - Total_lag3'] = df_train_car.groupby('tic')['Invested Capital - Total'].shift(3)\n",
    "df_train_car['Invested Capital - Total_lag4'] = df_train_car.groupby('tic')['Invested Capital - Total'].shift(4)\n",
    "\n",
    "df_train_car['car5_lag1'] = df_train_car.groupby('tic')['car5'].shift(1)\n",
    "df_train_car['car5_lag2'] = df_train_car.groupby('tic')['car5'].shift(2)\n",
    "df_train_car['car5_lag3'] = df_train_car.groupby('tic')['car5'].shift(3)\n",
    "df_train_car['car5_lag4'] = df_train_car.groupby('tic')['car5'].shift(4)\n",
    "\n",
    "\n",
    "\n",
    "df_test_car['Total Current Operating Revenue_lag1'] = df_test_car.groupby('tic')['Total Current Operating Revenue'].shift(1)\n",
    "df_test_car['Total Current Operating Revenue_lag2'] = df_test_car.groupby('tic')['Total Current Operating Revenue'].shift(2)\n",
    "df_test_car['Total Current Operating Revenue_lag3'] = df_test_car.groupby('tic')['Total Current Operating Revenue'].shift(3)\n",
    "df_test_car['Total Current Operating Revenue_lag4'] = df_test_car.groupby('tic')['Total Current Operating Revenue'].shift(4)\n",
    "\n",
    "df_test_car['Net Charge-Offs_lag1'] = df_test_car.groupby('tic')['Net Charge-Offs'].shift(1)\n",
    "df_test_car['Net Charge-Offs_lag2'] = df_test_car.groupby('tic')['Net Charge-Offs'].shift(2)\n",
    "df_test_car['Net Charge-Offs_lag3'] = df_test_car.groupby('tic')['Net Charge-Offs'].shift(3)\n",
    "df_test_car['Net Charge-Offs_lag4'] = df_test_car.groupby('tic')['Net Charge-Offs'].shift(4)\n",
    "\n",
    "df_test_car['Invested Capital - Total_lag1'] = df_test_car.groupby('tic')['Invested Capital - Total'].shift(1)\n",
    "df_test_car['Invested Capital - Total_lag2'] = df_test_car.groupby('tic')['Invested Capital - Total'].shift(2)\n",
    "df_test_car['Invested Capital - Total_lag3'] = df_test_car.groupby('tic')['Invested Capital - Total'].shift(3)\n",
    "df_test_car['Invested Capital - Total_lag4'] = df_test_car.groupby('tic')['Invested Capital - Total'].shift(4)\n",
    "\n",
    "df_test_car['car5_lag1'] = df_test_car.groupby('tic')['car5'].shift(1)\n",
    "df_test_car['car5_lag2'] = df_test_car.groupby('tic')['car5'].shift(2)\n",
    "df_test_car['car5_lag3'] = df_test_car.groupby('tic')['car5'].shift(3)\n",
    "df_test_car['car5_lag4'] = df_test_car.groupby('tic')['car5'].shift(4)"
   ]
  },
  {
   "cell_type": "code",
   "execution_count": 58,
   "id": "05a94736",
   "metadata": {},
   "outputs": [],
   "source": [
    "df_train_car = df_train_car.dropna()\n",
    "df_test_car = df_test_car.dropna()"
   ]
  },
  {
   "cell_type": "code",
   "execution_count": null,
   "id": "1581c506",
   "metadata": {},
   "outputs": [],
   "source": [
    "# Features subset\n",
    "\n",
    "# 1. Just lagged car\n",
    "\n",
    "experiment_1_car = [\n",
    "    'car5_lag1', 'car5_lag2', 'car5_lag3', 'car5_lag4'\n",
    "]\n",
    "\n",
    "# 2. Just fundamentals and lagged fundametals\n",
    "\n",
    "experiment_2_car = [\n",
    "    'car5_lag1', 'car5_lag2', 'car5_lag3', 'car5_lag4',\n",
    "    'Net Interest Income',\n",
    "    'Net Interest Margin', 'Net Charge-Offs',\n",
    "    'Cash and Short-Term Investments', 'Net Income',\n",
    "    'Invested Capital - Total', 'Total Current Operating Revenue',\n",
    "    'Total Current Operating Revenue_lag1',\n",
    "    'Total Current Operating Revenue_lag2',\n",
    "    'Total Current Operating Revenue_lag3',\n",
    "    'Total Current Operating Revenue_lag4', 'Net Charge-Offs_lag1',\n",
    "    'Net Charge-Offs_lag2', 'Net Charge-Offs_lag3', 'Net Charge-Offs_lag4',\n",
    "    'Invested Capital - Total_lag1', 'Invested Capital - Total_lag2',\n",
    "    'Invested Capital - Total_lag3', 'Invested Capital - Total_lag4',\n",
    "    \n",
    "]\n",
    "\n",
    "# 3. Just lagged car and economics stuff\n",
    "\n",
    "experiment_3_car = [\n",
    "    'car5_lag1', 'car5_lag2', 'car5_lag3', 'car5_lag4',\n",
    "    'GDP CHANGE (-1 to 1)', 'UNEMPLOYMENT RATE (0 to 1)',\n",
    "    'PRIME LOAN RATE (0 to 1)', 'DEPOSITS CHANGE (-1 to 1)',\n",
    "    'CONSUMER PRICE INDEX (0 to 1)', 'SAVINGS PER GROSS INCOME (-1 to 1)'\n",
    "]\n",
    "\n",
    "# 4. Just lagged car and market stuff\n",
    "\n",
    "experiment_4_car = [\n",
    "    'car5_lag1', 'car5_lag2', 'car5_lag3', 'car5_lag4',\n",
    "    'S&P_SMA5', 'S&P_SMA20', 'S&P_SMA50', 'S&P_RSI', 'VIX', 'SMA5', 'SMA20',\n",
    "    'SMA50', 'RSI', 'Volatility5', 'Volatility20', 'Volatility50',\n",
    "]\n",
    "\n",
    "# 5. Just lagged revenue and text sentiments\n",
    "\n",
    "experiment_5_car = [\n",
    "    'car5_lag1', 'car5_lag2', 'car5_lag3', 'car5_lag4',\n",
    "    'earning_calls_sentiment', 'earning_calls_confidence',\n",
    "    'earning_calls_complexity', 'news_sentiment', 'news_confidence',\n",
    "    'news_complexity_score', 'reviews_rating',\n",
    "    'text_blob_reviews_sentiment', 'vader_reviews_sentiment_neg',\n",
    "    'vader_reviews_sentiment_pos', 'bert_reviews_label',\n",
    "    'bert_reviews_score',\n",
    "]"
   ]
  },
  {
   "cell_type": "code",
   "execution_count": 60,
   "id": "168f7306",
   "metadata": {},
   "outputs": [
    {
     "name": "stdout",
     "output_type": "stream",
     "text": [
      "Just Lagged CAR\n",
      "Best parameters: {'max_depth': 3, 'min_samples_leaf': 2, 'min_samples_split': 10}\n",
      "Test RMSE: 0.0568\n",
      "Test MAE: 0.0411\n",
      "Test R²: 0.0131\n"
     ]
    }
   ],
   "source": [
    "print(\"Just Lagged CAR\")\n",
    "X_car_train, y_car_train, X_car_test, y_car_test = getting_training_dataset(df_train_car, experiment_1_car, \"car5\")\n",
    "train_decision_tree(X_car_train, y_car_train, X_car_test, y_car_test)"
   ]
  },
  {
   "cell_type": "code",
   "execution_count": null,
   "id": "401b5a03",
   "metadata": {},
   "outputs": [
    {
     "name": "stdout",
     "output_type": "stream",
     "text": [
      "Just fundamentals and lagged fundametals + Lagged CAR\n",
      "Best parameters: {'max_depth': 3, 'min_samples_leaf': 1, 'min_samples_split': 10}\n",
      "Test RMSE: 0.0564\n",
      "Test MAE: 0.0409\n",
      "Test R²: 0.0269\n"
     ]
    }
   ],
   "source": [
    "print(\"Just fundamentals and lagged fundametals + Lagged CAR\")\n",
    "X_car_train, y_car_train, X_car_test, y_car_test = getting_training_dataset(df_train_car, experiment_2_car, \"car5\")\n",
    "train_decision_tree(X_car_train, y_car_train, X_car_test, y_car_test)"
   ]
  },
  {
   "cell_type": "code",
   "execution_count": 62,
   "id": "eb57374b",
   "metadata": {},
   "outputs": [
    {
     "name": "stdout",
     "output_type": "stream",
     "text": [
      "Just lagged car and economics stuff\n",
      "Best parameters: {'max_depth': 3, 'min_samples_leaf': 1, 'min_samples_split': 10}\n",
      "Test RMSE: 0.0563\n",
      "Test MAE: 0.0408\n",
      "Test R²: 0.0305\n"
     ]
    }
   ],
   "source": [
    "print(\"Just lagged car and economics stuff\")\n",
    "X_car_train, y_car_train, X_car_test, y_car_test = getting_training_dataset(df_train_car, experiment_3_car, \"car5\")\n",
    "train_decision_tree(X_car_train, y_car_train, X_car_test, y_car_test)"
   ]
  },
  {
   "cell_type": "code",
   "execution_count": 63,
   "id": "f72e533e",
   "metadata": {},
   "outputs": [
    {
     "name": "stdout",
     "output_type": "stream",
     "text": [
      "Just lagged car and market stuff\n",
      "Best parameters: {'max_depth': 5, 'min_samples_leaf': 4, 'min_samples_split': 10}\n",
      "Test RMSE: 0.0530\n",
      "Test MAE: 0.0387\n",
      "Test R²: 0.1414\n"
     ]
    }
   ],
   "source": [
    "print(\"Just lagged car and market stuff\")\n",
    "X_car_train, y_car_train, X_car_test, y_car_test = getting_training_dataset(df_train_car, experiment_4_car, \"car5\")\n",
    "train_decision_tree(X_car_train, y_car_train, X_car_test, y_car_test)"
   ]
  },
  {
   "cell_type": "code",
   "execution_count": 64,
   "id": "cb5b8b5c",
   "metadata": {},
   "outputs": [
    {
     "name": "stdout",
     "output_type": "stream",
     "text": [
      "Just lagged car and sentiment stuff\n",
      "Best parameters: {'max_depth': 3, 'min_samples_leaf': 2, 'min_samples_split': 10}\n",
      "Test RMSE: 0.0568\n",
      "Test MAE: 0.0411\n",
      "Test R²: 0.0131\n"
     ]
    }
   ],
   "source": [
    "print(\"Just lagged car and sentiment stuff\")\n",
    "X_car_train, y_car_train, X_car_test, y_car_test = getting_training_dataset(df_train_car, experiment_5_car, \"car5\")\n",
    "train_decision_tree(X_car_train, y_car_train, X_car_test, y_car_test)"
   ]
  },
  {
   "cell_type": "code",
   "execution_count": 66,
   "id": "ce55de51",
   "metadata": {},
   "outputs": [
    {
     "name": "stdout",
     "output_type": "stream",
     "text": [
      "All columns\n",
      "Best parameters: {'max_depth': 3, 'min_samples_leaf': 1, 'min_samples_split': 2}\n",
      "Test RMSE: 0.0555\n",
      "Test MAE: 0.0403\n",
      "Test R²: 0.0607\n"
     ]
    }
   ],
   "source": [
    "print(\"All columns\")\n",
    "all_car_cols = list(set(experiment_1_car + experiment_2_car + experiment_3_car + experiment_4_car + experiment_5_car))\n",
    "X_car_train, y_car_train, X_car_test, y_car_test = getting_training_dataset(df_train_car, all_car_cols, \"car5\")\n",
    "train_decision_tree(X_car_train, y_car_train, X_car_test, y_car_test)"
   ]
  },
  {
   "cell_type": "code",
   "execution_count": null,
   "id": "2569b5e6",
   "metadata": {},
   "outputs": [],
   "source": []
  }
 ],
 "metadata": {
  "kernelspec": {
   "display_name": "base",
   "language": "python",
   "name": "python3"
  },
  "language_info": {
   "codemirror_mode": {
    "name": "ipython",
    "version": 3
   },
   "file_extension": ".py",
   "mimetype": "text/x-python",
   "name": "python",
   "nbconvert_exporter": "python",
   "pygments_lexer": "ipython3",
   "version": "3.11.3"
  }
 },
 "nbformat": 4,
 "nbformat_minor": 5
}
