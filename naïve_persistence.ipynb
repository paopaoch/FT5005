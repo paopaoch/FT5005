{
 "cells": [
  {
   "cell_type": "code",
   "execution_count": 4,
   "id": "66682345",
   "metadata": {},
   "outputs": [
    {
     "name": "stdout",
     "output_type": "stream",
     "text": [
      "CAR(5) Persistence Baseline RMSE: 0.079850766566373\n",
      "CAR(5) Persistence Baseline R²: -0.9540312737295016\n"
     ]
    }
   ],
   "source": [
    "import pandas as pd\n",
    "import numpy as np\n",
    "from sklearn.metrics import mean_squared_error, r2_score\n",
    "\n",
    "# Load your training dataset\n",
    "df_car = pd.read_csv(\"data/train_data_CAR5_with_text_with_oof_car5.csv\")\n",
    "\n",
    "# Sort by ticker and quarter\n",
    "df_car = df_car.sort_values(by=[\"tic\", \"datacqtr\"])\n",
    "\n",
    "# Create Y(t-1) by shifting within each ticker\n",
    "df_car[\"car5_lag1\"] = df_car.groupby(\"tic\")[\"car5\"].shift(1)\n",
    "\n",
    "# Drop rows with missing lag values (i.e., first quarter per firm)\n",
    "df_car_valid = df_car.dropna(subset=[\"car5\", \"car5_lag1\"])\n",
    "\n",
    "# Compare actual Y(t) vs predicted Y(t-1)\n",
    "y_true = df_car_valid[\"car5\"]\n",
    "y_pred = df_car_valid[\"car5_lag1\"]\n",
    "\n",
    "# Compute RMSE and R²\n",
    "rmse_car = np.sqrt(mean_squared_error(y_true, y_pred))\n",
    "r2_car = r2_score(y_true, y_pred)\n",
    "\n",
    "print(\"CAR(5) Persistence Baseline RMSE:\", rmse_car)\n",
    "print(\"CAR(5) Persistence Baseline R²:\", r2_car)"
   ]
  },
  {
   "cell_type": "code",
   "execution_count": 6,
   "id": "34dcf6f9",
   "metadata": {},
   "outputs": [
    {
     "name": "stdout",
     "output_type": "stream",
     "text": [
      "Revenue Persistence Baseline RMSE: 0.013266927594668111\n",
      "Revenue Persistence Baseline R²: 0.9936958627261635\n"
     ]
    }
   ],
   "source": [
    "# Load your revenue training dataset\n",
    "df_rev = pd.read_csv(\"data/train_data_REV_with_text_with_oof_Total Current Operating Revenue.csv\")\n",
    "\n",
    "# Sort by ticker and quarter\n",
    "df_rev = df_rev.sort_values(by=[\"tic\", \"datacqtr\"])\n",
    "\n",
    "# Create Y(t-1) column\n",
    "target = \"Total Current Operating Revenue\"\n",
    "df_rev[\"rev_lag1\"] = df_rev.groupby(\"tic\")[target].shift(1)\n",
    "\n",
    "# Drop missing lag values\n",
    "df_rev_valid = df_rev.dropna(subset=[target, \"rev_lag1\"])\n",
    "\n",
    "# Compute RMSE and R²\n",
    "rmse_rev = np.sqrt(mean_squared_error(df_rev_valid[target], df_rev_valid[\"rev_lag1\"]))\n",
    "r2_rev = r2_score(df_rev_valid[target], df_rev_valid[\"rev_lag1\"])\n",
    "\n",
    "print(\"Revenue Persistence Baseline RMSE:\", rmse_rev)\n",
    "print(\"Revenue Persistence Baseline R²:\", r2_rev)\n"
   ]
  }
 ],
 "metadata": {
  "kernelspec": {
   "display_name": "Python 3",
   "language": "python",
   "name": "python3"
  },
  "language_info": {
   "codemirror_mode": {
    "name": "ipython",
    "version": 3
   },
   "file_extension": ".py",
   "mimetype": "text/x-python",
   "name": "python",
   "nbconvert_exporter": "python",
   "pygments_lexer": "ipython3",
   "version": "3.11.0"
  }
 },
 "nbformat": 4,
 "nbformat_minor": 5
}
